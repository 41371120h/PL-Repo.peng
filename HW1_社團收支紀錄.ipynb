{
  "nbformat": 4,
  "nbformat_minor": 0,
  "metadata": {
    "colab": {
      "provenance": [],
      "mount_file_id": "1-7hsa_C3YMrv6sk8zapbZQOunI3_jazg",
      "authorship_tag": "ABX9TyONFPiLAw0jyM34FKyaXU21",
      "include_colab_link": true
    },
    "kernelspec": {
      "name": "python3",
      "display_name": "Python 3"
    },
    "language_info": {
      "name": "python"
    }
  },
  "cells": [
    {
      "cell_type": "markdown",
      "metadata": {
        "id": "view-in-github",
        "colab_type": "text"
      },
      "source": [
        "<a href=\"https://colab.research.google.com/github/41371120h/PL-Repo.peng/blob/main/HW1_%E7%A4%BE%E5%9C%98%E6%94%B6%E6%94%AF%E7%B4%80%E9%8C%84.ipynb\" target=\"_parent\"><img src=\"https://colab.research.google.com/assets/colab-badge.svg\" alt=\"Open In Colab\"/></a>"
      ]
    },
    {
      "cell_type": "code",
      "source": [
        "# 用於管理社團收支。\n",
        "# 程式會自動從指定的 Google 試算表 (Google Sheets) 中讀取「收支紀錄」分頁，\n",
        "# 使用者可以輸入日期、項目名稱、收入或支出金額、請款人、支付方式，以及是否已給錢。\n",
        "# 系統會自動計算累積結餘，並將更新的結餘寫回試算表。\n",
        "# 透過此程式，使用者能夠方便管理每日收支，隨時掌握財務狀況。"
      ],
      "metadata": {
        "id": "cEl0h0cMoI1X"
      },
      "execution_count": null,
      "outputs": []
    },
    {
      "cell_type": "code",
      "execution_count": null,
      "metadata": {
        "id": "HNc2CilDYmiu"
      },
      "outputs": [],
      "source": [
        "from google.colab import auth\n",
        "auth.authenticate_user()\n",
        "\n",
        "import gspread\n",
        "from google.auth import default\n",
        "from datetime import datetime\n",
        "creds, _ = default()\n",
        "\n",
        "gc = gspread.authorize(creds)\n",
        "import pandas as pd"
      ]
    },
    {
      "cell_type": "code",
      "source": [
        "auth.authenticate_user()\n",
        "creds, _ = default()\n",
        "gc = gspread.authorize(creds)\n",
        "\n",
        "# 打開你的試算表 (請替換為你的網址)\n",
        "gsheets = gc.open_by_url('https://docs.google.com/spreadsheets/d/1T_CYo5tydoyyBj8LfMpQCcAD4IJqnNkczZb_6WIslZk/edit?gid=0#gid=0')\n",
        "\n",
        "# 選擇工作表（如果不存在就建立）\n",
        "try:\n",
        "    worksheet = gsheets.worksheet('收支紀錄')\n",
        "except:\n",
        "    worksheet.append_row(['日期', '項目名稱', '收入', '支出', '請款人', '支付方式', '是否已給錢', '結餘'])\n",
        "\n",
        "print(\"--- 輸入收支資料 ---\")"
      ],
      "metadata": {
        "colab": {
          "base_uri": "https://localhost:8080/"
        },
        "id": "37op5AlOjPmB",
        "outputId": "6a892f72-63f0-41b9-88ed-914d96c609c0"
      },
      "execution_count": null,
      "outputs": [
        {
          "output_type": "stream",
          "name": "stdout",
          "text": [
            "--- 輸入收支資料 ---\n"
          ]
        }
      ]
    },
    {
      "cell_type": "code",
      "source": [
        "while True:\n",
        "    date_str = input(\"請輸入日期 (格式 YYYY-MM-DD)：\")\n",
        "    try:\n",
        "        datetime.strptime(date_str, \"%Y-%m-%d\")\n",
        "        break\n",
        "    except ValueError:\n",
        "        print(\"日期格式錯誤，請重新輸入。\")\n",
        "\n",
        "item_str = input(\"請輸入項目名稱：\")\n",
        "\n",
        "# 收入 / 支出\n",
        "while True:\n",
        "    in_or_out = input(\"這筆是 收入 還是 支出？(輸入 i 或 o)：\")\n",
        "    if in_or_out.lower() == \"i\":\n",
        "        income = float(input(\"請輸入收入金額：\"))\n",
        "        expense = 0\n",
        "        break\n",
        "    elif in_or_out.lower() == \"o\":\n",
        "        expense = float(input(\"請輸入支出金額：\"))\n",
        "        income = 0\n",
        "        break\n",
        "    else:\n",
        "        print(\"只能輸入 i (收入) 或 o (支出)\")\n",
        "\n",
        "payer = input(\"請輸入請款人 (沒有可留空)：\")\n",
        "payment_method = input(\"請輸入支付方式 (現金/信用卡/Line Pay...)：\")\n",
        "paid_status = input(\"是否已給錢？(是/否)：\")"
      ],
      "metadata": {
        "colab": {
          "base_uri": "https://localhost:8080/"
        },
        "id": "OZMOYhH4jPzR",
        "outputId": "0f2cb8db-0b69-43fd-cf66-7b77e5819c51"
      },
      "execution_count": null,
      "outputs": [
        {
          "name": "stdout",
          "output_type": "stream",
          "text": [
            "請輸入日期 (格式 YYYY-MM-DD)：2025-09-16\n",
            "請輸入項目名稱：黏土\n",
            "這筆是 收入 還是 支出？(輸入 i 或 o)：o\n",
            "請輸入支出金額：300\n",
            "請輸入請款人 (沒有可留空)：彭\n",
            "請輸入支付方式 (現金/信用卡/Line Pay...)：現金\n",
            "是否已給錢？(是/否)：否\n"
          ]
        }
      ]
    },
    {
      "cell_type": "code",
      "source": [
        "# Step 3: 新增到收支紀錄分頁（先將結餘欄空著）\n",
        "new_row = [date_str, item_str, income, expense, payer, payment_method, paid_status, \"\"]\n",
        "worksheet.append_row(new_row)\n",
        "print(\"\\n✅ 已新增到收支紀錄！\")\n",
        "print(new_row)"
      ],
      "metadata": {
        "colab": {
          "base_uri": "https://localhost:8080/"
        },
        "id": "4nxlbYWWjQBp",
        "outputId": "2a11bfd4-59e2-4c69-d757-953a3fa04185"
      },
      "execution_count": null,
      "outputs": [
        {
          "output_type": "stream",
          "name": "stdout",
          "text": [
            "\n",
            "✅ 已新增到收支紀錄！\n",
            "['2025-09-16', '黏土', 0, 300.0, '彭', '現金', '否', '']\n"
          ]
        }
      ]
    },
    {
      "cell_type": "code",
      "source": [
        "# Step 4: 讀取所有資料並轉成 DataFrame\n",
        "records = worksheet.get_all_records()\n",
        "df = pd.DataFrame(records)\n",
        "df.columns = df.columns.str.strip()  # 去除欄位空格\n",
        "\n",
        "# 確保收入、支出是數字\n",
        "df['收入'] = pd.to_numeric(df.get('收入', 0), errors='coerce').fillna(0)\n",
        "df['支出'] = pd.to_numeric(df.get('支出', 0), errors='coerce').fillna(0)"
      ],
      "metadata": {
        "id": "GalBdvQujYWb"
      },
      "execution_count": null,
      "outputs": []
    },
    {
      "cell_type": "code",
      "source": [
        "# Step 5: 計算累積結餘\n",
        "df['結餘'] = (df['收入'] - df['支出']).cumsum()"
      ],
      "metadata": {
        "id": "D3oQT4HwjYhx"
      },
      "execution_count": null,
      "outputs": []
    },
    {
      "cell_type": "code",
      "source": [
        "# Step 6: 更新結餘欄位回試算表\n",
        "cell_list = worksheet.range(f\"H2:H{len(df)+1}\")  # H欄是第8欄\n",
        "for i, cell in enumerate(cell_list):\n",
        "    cell.value = int(df.iloc[i]['結餘'])  # 轉成 Python int\n",
        "worksheet.update_cells(cell_list)\n",
        "print(\"✅ 已更新所有結餘欄位\")"
      ],
      "metadata": {
        "colab": {
          "base_uri": "https://localhost:8080/"
        },
        "id": "uCndUZn-jgSg",
        "outputId": "bb9fef40-dbfb-457d-8814-d24fb4ae31e1"
      },
      "execution_count": null,
      "outputs": [
        {
          "output_type": "stream",
          "name": "stdout",
          "text": [
            "✅ 已更新所有結餘欄位\n"
          ]
        }
      ]
    },
    {
      "cell_type": "code",
      "source": [
        "# Step 7: 顯示總結\n",
        "total_income = df['收入'].sum()\n",
        "total_expense = df['支出'].sum()\n",
        "balance = df['結餘'].iloc[-1] if not df.empty else 0\n",
        "\n",
        "print(\"\\n--- 收支總結 ---\")\n",
        "print(f\"總收入: {total_income:,.0f}\")\n",
        "print(f\"總支出: {total_expense:,.0f}\")\n",
        "print(f\"目前結餘: {balance:,.0f}\")"
      ],
      "metadata": {
        "colab": {
          "base_uri": "https://localhost:8080/"
        },
        "id": "pKssYyPRjhAJ",
        "outputId": "b2aefc00-2be2-4cbf-c270-54afb82d8e22"
      },
      "execution_count": null,
      "outputs": [
        {
          "output_type": "stream",
          "name": "stdout",
          "text": [
            "\n",
            "--- 收支總結 ---\n",
            "總收入: 0\n",
            "總支出: 300\n",
            "目前結餘: -300\n"
          ]
        }
      ]
    },
    {
      "cell_type": "code",
      "source": [
        "# Step 8: 顯示未付款項目（安全檢查）\n",
        "if '是否已給錢' in df.columns:\n",
        "    unpaid = df[df['是否已給錢'].str.contains(\"否\", na=False)]\n",
        "    if not unpaid.empty:\n",
        "        print(\"\\n--- 未付款項目 ---\")\n",
        "        print(unpaid[['日期', '項目名稱', '支出', '請款人', '支付方式']])\n",
        "    else:\n",
        "        print(\"\\n✅ 沒有未付款項目\")\n",
        "else:\n",
        "    print(\"\\n❌ 試算表沒有「是否已給錢」欄位\")"
      ],
      "metadata": {
        "colab": {
          "base_uri": "https://localhost:8080/"
        },
        "id": "WoOtpyugjjqt",
        "outputId": "73e3198f-cfc8-4315-fdbe-b3ba96ecf70a"
      },
      "execution_count": null,
      "outputs": [
        {
          "output_type": "stream",
          "name": "stdout",
          "text": [
            "\n",
            "--- 未付款項目 ---\n",
            "           日期 項目名稱   支出 請款人 支付方式\n",
            "0  2025-09-16   黏土  300   彭   現金\n"
          ]
        }
      ]
    }
  ]
}