{
  "nbformat": 4,
  "nbformat_minor": 0,
  "metadata": {
    "colab": {
      "provenance": [],
      "authorship_tag": "ABX9TyN5veyLUjQpnGjgdrNwsE6T",
      "include_colab_link": true
    },
    "kernelspec": {
      "name": "python3",
      "display_name": "Python 3"
    },
    "language_info": {
      "name": "python"
    }
  },
  "cells": [
    {
      "cell_type": "markdown",
      "metadata": {
        "id": "view-in-github",
        "colab_type": "text"
      },
      "source": [
        "<a href=\"https://colab.research.google.com/github/41371120h/PL-Repo.peng/blob/main/41371120H_%E6%94%B6%E6%94%AF%E7%AE%A1%E7%90%86.ipynb\" target=\"_parent\"><img src=\"https://colab.research.google.com/assets/colab-badge.svg\" alt=\"Open In Colab\"/></a>"
      ]
    },
    {
      "cell_type": "code",
      "execution_count": 7,
      "metadata": {
        "id": "AN5EIMBso7yy"
      },
      "outputs": [],
      "source": [
        "from google.colab import auth\n",
        "auth.authenticate_user()\n",
        "\n",
        "import gspread\n",
        "from google.auth import default\n",
        "import pandas as pd\n",
        "from datetime import datetime\n",
        "import gradio as gr"
      ]
    },
    {
      "cell_type": "code",
      "source": [
        "# Google Sheets 認證\n",
        "creds, _ = default()\n",
        "gc = gspread.authorize(creds)\n",
        "\n",
        "# 開啟試算表\n",
        "gsheets = gc.open_by_url(\n",
        "    'https://docs.google.com/spreadsheets/d/1T_CYo5tydoyyBj8LfMpQCcAD4IJqnNkczZb_6WIslZk/edit?gid=0#gid=0'\n",
        ")\n",
        "\n",
        "# 取得或建立 worksheet\n",
        "try:\n",
        "    worksheet = gsheets.worksheet('收支紀錄')\n",
        "except:\n",
        "    worksheet.append_row(['日期', '項目名稱', '收入', '支出', '請款人', '支付方式', '是否已給錢', '結餘'])"
      ],
      "metadata": {
        "id": "5ppFfgIFc3YU"
      },
      "execution_count": 8,
      "outputs": []
    },
    {
      "cell_type": "code",
      "source": [
        "def add_record(date_str, item_str, in_or_out, amount, payer, payment_method, other_method, paid_status):\n",
        "    # 如果選 \"其他\"，就用 other_method 當支付方式\n",
        "    if payment_method == \"其他\" and other_method.strip() != \"\":\n",
        "        payment_method = other_method.strip()\n",
        "\n",
        "    # 判斷收入/支出\n",
        "    if in_or_out == \"收入\":\n",
        "        income = float(amount)\n",
        "        expense = 0\n",
        "    else:\n",
        "        expense = float(amount)\n",
        "        income = 0\n",
        "\n",
        "    # 新增資料\n",
        "    new_row = [date_str, item_str, income, expense, payer, payment_method, paid_status, \"\"]\n",
        "    worksheet.append_row(new_row)\n",
        "\n",
        "    # 更新 DataFrame\n",
        "    records = worksheet.get_all_records()\n",
        "    df = pd.DataFrame(records)\n",
        "    df.columns = df.columns.str.strip()\n",
        "    df['收入'] = pd.to_numeric(df.get('收入', 0), errors='coerce').fillna(0)\n",
        "    df['支出'] = pd.to_numeric(df.get('支出', 0), errors='coerce').fillna(0)\n",
        "\n",
        "    # 計算累積結餘\n",
        "    df['結餘'] = (df['收入'] - df['支出']).cumsum()\n",
        "\n",
        "    # 更新試算表結餘欄位\n",
        "    cell_list = worksheet.range(f\"H2:H{len(df)+1}\")\n",
        "    for i, cell in enumerate(cell_list):\n",
        "        cell.value = int(df.iloc[i]['結餘'])\n",
        "    worksheet.update_cells(cell_list)\n",
        "\n",
        "    # 計算總結\n",
        "    total_income = df['收入'].sum()\n",
        "    total_expense = df['支出'].sum()\n",
        "    balance = df['結餘'].iloc[-1] if not df.empty else 0\n",
        "\n",
        "    summary = f\"✅ 已新增一筆紀錄！\\n\\n\"\n",
        "    summary += f\"📌 項目: {item_str}\\n💰 收入: {income}\\n💸 支出: {expense}\\n👤 請款人: {payer}\\n\"\n",
        "    summary += f\"💳 支付方式: {payment_method}\\n📅 日期: {date_str}\\n\\n\"\n",
        "    summary += \"--- 收支總結 ---\\n\"\n",
        "    summary += f\"總收入: {total_income:,.0f}\\n\"\n",
        "    summary += f\"總支出: {total_expense:,.0f}\\n\"\n",
        "    summary += f\"目前結餘: {balance:,.0f}\\n\"\n",
        "\n",
        "    # 未付款項目\n",
        "    unpaid_msg = \"\\n--- 未付款項目 ---\\n\"\n",
        "    if '是否已給錢' in df.columns:\n",
        "        unpaid = df[df['是否已給錢'].str.contains(\"否\", na=False)]\n",
        "        if not unpaid.empty:\n",
        "            unpaid_msg += unpaid[['日期', '項目名稱', '支出', '請款人', '支付方式']].to_string(index=False)\n",
        "        else:\n",
        "            unpaid_msg += \"✅ 沒有未付款項目\"\n",
        "    else:\n",
        "        unpaid_msg += \"❌ 試算表沒有「是否已給錢」欄位\"\n",
        "\n",
        "    return summary + \"\\n\" + unpaid_msg"
      ],
      "metadata": {
        "id": "P6V2tHfQc8qn"
      },
      "execution_count": 9,
      "outputs": []
    },
    {
      "cell_type": "code",
      "source": [
        "# Gradio 介面\n",
        "with gr.Blocks() as demo:\n",
        "    gr.Markdown(\"# 💵 收支管理系統（Google Sheets 版）\")\n",
        "\n",
        "    with gr.Row():\n",
        "        date_str = gr.Textbox(label=\"日期 (YYYY-MM-DD)\", value=datetime.today().strftime(\"%Y-%m-%d\"))\n",
        "        item_str = gr.Textbox(label=\"項目名稱\")\n",
        "\n",
        "    with gr.Row():\n",
        "        in_or_out = gr.Radio([\"收入\", \"支出\"], label=\"收支類型\", value=\"支出\")\n",
        "        amount = gr.Number(label=\"金額\", value=0)\n",
        "\n",
        "    with gr.Row():\n",
        "        payer = gr.Textbox(label=\"請款人\")\n",
        "        payment_method = gr.Dropdown(choices=[\"現金\", \"信用卡\", \"Line Pay\", \"其他\"], label=\"支付方式\", value=\"現金\")\n",
        "        other_method = gr.Textbox(label=\"若選擇其他，請輸入方式\")\n",
        "        paid_status = gr.Radio([\"是\", \"否\"], label=\"是否已給錢\", value=\"是\")\n",
        "\n",
        "    submit_btn = gr.Button(\"新增紀錄\")\n",
        "    output = gr.Textbox(label=\"結果\", lines=15)\n",
        "\n",
        "    submit_btn.click(\n",
        "        fn=add_record,\n",
        "        inputs=[date_str, item_str, in_or_out, amount, payer, payment_method, other_method, paid_status],\n",
        "        outputs=output\n",
        "    )\n",
        "\n",
        "demo.launch()"
      ],
      "metadata": {
        "colab": {
          "base_uri": "https://localhost:8080/",
          "height": 645
        },
        "id": "UBEkNqeoeI4o",
        "outputId": "95c56d08-7521-41fd-ca1b-deb45d3f44b7"
      },
      "execution_count": 10,
      "outputs": [
        {
          "output_type": "stream",
          "name": "stdout",
          "text": [
            "It looks like you are running Gradio on a hosted Jupyter notebook, which requires `share=True`. Automatically setting `share=True` (you can turn this off by setting `share=False` in `launch()` explicitly).\n",
            "\n",
            "Colab notebook detected. To show errors in colab notebook, set debug=True in launch()\n",
            "* Running on public URL: https://ab7289bcc80d0e43c9.gradio.live\n",
            "\n",
            "This share link expires in 1 week. For free permanent hosting and GPU upgrades, run `gradio deploy` from the terminal in the working directory to deploy to Hugging Face Spaces (https://huggingface.co/spaces)\n"
          ]
        },
        {
          "output_type": "display_data",
          "data": {
            "text/plain": [
              "<IPython.core.display.HTML object>"
            ],
            "text/html": [
              "<div><iframe src=\"https://ab7289bcc80d0e43c9.gradio.live\" width=\"100%\" height=\"500\" allow=\"autoplay; camera; microphone; clipboard-read; clipboard-write;\" frameborder=\"0\" allowfullscreen></iframe></div>"
            ]
          },
          "metadata": {}
        },
        {
          "output_type": "execute_result",
          "data": {
            "text/plain": []
          },
          "metadata": {},
          "execution_count": 10
        }
      ]
    }
  ]
}