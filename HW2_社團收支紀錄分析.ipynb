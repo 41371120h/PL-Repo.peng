{
  "nbformat": 4,
  "nbformat_minor": 0,
  "metadata": {
    "colab": {
      "provenance": [],
      "authorship_tag": "ABX9TyMcOdz74Lz71MA61iSWqCz3",
      "include_colab_link": true
    },
    "kernelspec": {
      "name": "python3",
      "display_name": "Python 3"
    },
    "language_info": {
      "name": "python"
    }
  },
  "cells": [
    {
      "cell_type": "markdown",
      "metadata": {
        "id": "view-in-github",
        "colab_type": "text"
      },
      "source": [
        "<a href=\"https://colab.research.google.com/github/41371120h/PL-Repo.peng/blob/main/HW2_%E7%A4%BE%E5%9C%98%E6%94%B6%E6%94%AF%E7%B4%80%E9%8C%84%E5%88%86%E6%9E%90.ipynb\" target=\"_parent\"><img src=\"https://colab.research.google.com/assets/colab-badge.svg\" alt=\"Open In Colab\"/></a>"
      ]
    },
    {
      "cell_type": "code",
      "execution_count": 17,
      "metadata": {
        "id": "AN5EIMBso7yy"
      },
      "outputs": [],
      "source": [
        "from google.colab import auth\n",
        "auth.authenticate_user()\n",
        "\n",
        "import gspread\n",
        "from google.auth import default\n",
        "import pandas as pd\n",
        "from datetime import datetime\n",
        "import gradio as gr"
      ]
    },
    {
      "cell_type": "code",
      "source": [
        "# Google Sheets 認證\n",
        "creds, _ = default()\n",
        "gc = gspread.authorize(creds)\n",
        "\n",
        "# 開啟試算表\n",
        "gsheets = gc.open_by_url(\n",
        "    'https://docs.google.com/spreadsheets/d/1T_CYo5tydoyyBj8LfMpQCcAD4IJqnNkczZb_6WIslZk/edit?gid=0#gid=0'\n",
        ")\n",
        "\n",
        "# 取得或建立 worksheet\n",
        "try:\n",
        "    worksheet = gsheets.worksheet('收支紀錄')\n",
        "except:\n",
        "    worksheet.append_row(['日期', '項目名稱', '收入', '支出', '請款人', '支付方式', '是否已給錢', '結餘'])"
      ],
      "metadata": {
        "id": "5ppFfgIFc3YU"
      },
      "execution_count": 18,
      "outputs": []
    },
    {
      "cell_type": "code",
      "source": [
        "def add_record(date_str, item_str, in_or_out, amount, payer, payment_method, other_method, paid_status):\n",
        "    # 如果選 \"其他\"，就用 other_method 當支付方式\n",
        "    if payment_method == \"其他\" and other_method.strip() != \"\":\n",
        "        payment_method = other_method.strip()\n",
        "\n",
        "    # 判斷收入/支出\n",
        "    if in_or_out == \"收入\":\n",
        "        income = float(amount)\n",
        "        expense = 0\n",
        "    else:\n",
        "        expense = float(amount)\n",
        "        income = 0\n",
        "\n",
        "    # 新增資料\n",
        "    new_row = [date_str, item_str, income, expense, payer, payment_method, paid_status, \"\"]\n",
        "    worksheet.append_row(new_row)\n",
        "\n",
        "    # 更新 DataFrame\n",
        "    records = worksheet.get_all_records()\n",
        "    df = pd.DataFrame(records)\n",
        "    df.columns = df.columns.str.strip()\n",
        "    df['收入'] = pd.to_numeric(df.get('收入', 0), errors='coerce').fillna(0)\n",
        "    df['支出'] = pd.to_numeric(df.get('支出', 0), errors='coerce').fillna(0)\n",
        "\n",
        "    # 計算累積結餘\n",
        "    df['結餘'] = (df['收入'] - df['支出']).cumsum()\n",
        "\n",
        "    # 更新試算表結餘欄位\n",
        "    cell_list = worksheet.range(f\"H2:H{len(df)+1}\")\n",
        "    for i, cell in enumerate(cell_list):\n",
        "        cell.value = int(df.iloc[i]['結餘'])\n",
        "    worksheet.update_cells(cell_list)\n",
        "\n",
        "    # 計算總結\n",
        "    total_income = df['收入'].sum()\n",
        "    total_expense = df['支出'].sum()\n",
        "    balance = df['結餘'].iloc[-1] if not df.empty else 0\n",
        "\n",
        "    summary = f\"✅ 已新增一筆紀錄！\\n\\n\"\n",
        "    summary += f\"📌 項目: {item_str}\\n💰 收入: {income}\\n💸 支出: {expense}\\n👤 請款人: {payer}\\n\"\n",
        "    summary += f\"💳 支付方式: {payment_method}\\n📅 日期: {date_str}\\n\\n\"\n",
        "    summary += \"--- 收支總結 ---\\n\"\n",
        "    summary += f\"總收入: {total_income:,.0f}\\n\"\n",
        "    summary += f\"總支出: {total_expense:,.0f}\\n\"\n",
        "    summary += f\"目前結餘: {balance:,.0f}\\n\"\n",
        "\n",
        "    # 未付款項目\n",
        "    unpaid_msg = \"\\n--- 未付款項目 ---\\n\"\n",
        "    if '是否已給錢' in df.columns:\n",
        "        unpaid = df[df['是否已給錢'].str.contains(\"否\", na=False)]\n",
        "        if not unpaid.empty:\n",
        "            unpaid_msg += unpaid[['日期', '項目名稱', '支出', '請款人', '支付方式']].to_string(index=False)\n",
        "        else:\n",
        "            unpaid_msg += \"✅ 沒有未付款項目\"\n",
        "    else:\n",
        "        unpaid_msg += \"❌ 試算表沒有「是否已給錢」欄位\"\n",
        "\n",
        "    return summary + \"\\n\" + unpaid_msg"
      ],
      "metadata": {
        "id": "P6V2tHfQc8qn"
      },
      "execution_count": 19,
      "outputs": []
    },
    {
      "cell_type": "code",
      "source": [
        "# --- 新增的分析函式 ---\n",
        "# 修復後的 generate_analysis_to_sheet 函式\n",
        "def generate_analysis_to_sheet():\n",
        "    ANALYSIS_WS_NAME = '分析總結'\n",
        "\n",
        "    # 重新獲取 '收支紀錄' 工作表，確保變數有效\n",
        "    try:\n",
        "        # 假設 gsheets (試算表物件) 在全域範圍內是有效的\n",
        "        source_worksheet = gsheets.worksheet('收支紀錄')\n",
        "    except gspread.WorksheetNotFound:\n",
        "        return \"❌ 錯誤：找不到 '收支紀錄' 工作表。\"\n",
        "    except Exception as e:\n",
        "        return f\"❌ 連線到 '收支紀錄' 工作表時發生錯誤：{e}\"\n",
        "\n",
        "    # 1. 取得或建立「分析總結」工作表\n",
        "    try:\n",
        "        analysis_ws = gsheets.worksheet(ANALYSIS_WS_NAME)\n",
        "    except gspread.WorksheetNotFound:\n",
        "        analysis_ws = gsheets.add_worksheet(title=ANALYSIS_WS_NAME, rows=\"100\", cols=\"20\")\n",
        "\n",
        "    # 2. 讀取並處理數據\n",
        "    try:\n",
        "        records = worksheet.get_all_records()\n",
        "        df = pd.DataFrame(records)\n",
        "        df.columns = df.columns.str.strip()\n",
        "        df['收入'] = pd.to_numeric(df.get('收入', 0), errors='coerce').fillna(0)\n",
        "        df['支出'] = pd.to_numeric(df.get('支出', 0), errors='coerce').fillna(0)\n",
        "    except Exception as e:\n",
        "        return f\"❌ 讀取資料失敗：{e}\"\n",
        "\n",
        "    if df.empty:\n",
        "        return f\"⚠️ '收支紀錄' 工作表沒有任何資料。\"\n",
        "\n",
        "    # 3. 執行收支分析\n",
        "\n",
        "    # a. 總結餘\n",
        "    total_income = df['收入'].sum()\n",
        "    total_expense = df['支出'].sum()\n",
        "    current_balance = total_income - total_expense\n",
        "\n",
        "    # b. 請款人支出排名\n",
        "    payer_summary = df.groupby('請款人')['支出'].sum().sort_values(ascending=False).reset_index()\n",
        "    payer_summary.columns = ['請款人', '總支出']\n",
        "\n",
        "    # c. 支付方式支出分佈\n",
        "    payment_summary = df.groupby('支付方式')['支出'].sum().sort_values(ascending=False).reset_index()\n",
        "    payment_summary.columns = ['支付方式', '總支出']\n",
        "\n",
        "    # 4. 寫入分析結果到「分析總結」工作表\n",
        "\n",
        "    # 清空現有內容\n",
        "    analysis_ws.clear()\n",
        "\n",
        "    # 寫入總結 (從 A1 開始)\n",
        "    summary_data = [\n",
        "        [f'收支分析總覽 ({datetime.now().strftime(\"%Y-%m-%d %H:%M:%S\")})', ''],\n",
        "        ['總收入', total_income],\n",
        "        ['總支出', total_expense],\n",
        "        ['目前總結餘', current_balance]\n",
        "    ]\n",
        "    analysis_ws.update('A1', summary_data)\n",
        "\n",
        "    # 寫入請款人支出排名 (從 A6 開始)\n",
        "    payer_data = [['請款人支出排名', '']] + [payer_summary.columns.tolist()] + payer_summary.values.tolist()\n",
        "    analysis_ws.update('A6', payer_data)\n",
        "\n",
        "    # 寫入支付方式分佈 (從 E6 開始)\n",
        "    payment_data = [['支付方式支出分佈', '']] + [payment_summary.columns.tolist()] + payment_summary.values.tolist()\n",
        "    analysis_ws.update('E6', payment_data)\n",
        "\n",
        "    # 寫入未付款項目列表 (從 A15 開始)\n",
        "    unpaid = df[df['是否已給錢'].str.contains(\"否\", na=False)]\n",
        "    unpaid_data = [['未付款項目 (待結清)', '']]\n",
        "    if not unpaid.empty:\n",
        "        unpaid_df_data = unpaid[['日期', '項目名稱', '支出', '請款人']].sort_values(by='日期').values.tolist()\n",
        "        unpaid_data += [['日期', '項目名稱', '支出', '請款人']] + unpaid_df_data\n",
        "\n",
        "    analysis_ws.update('A15', unpaid_data)\n",
        "\n",
        "\n",
        "    return f\"✅ 分析結果已成功儲存到 **{ANALYSIS_WS_NAME}** 工作表！\\n\\n請打開 Google Sheet 查看分析報告。\""
      ],
      "metadata": {
        "id": "dVAXAVul-SnD"
      },
      "execution_count": 20,
      "outputs": []
    },
    {
      "cell_type": "code",
      "source": [
        "# Gradio 介面\n",
        "with gr.Blocks() as demo:\n",
        "    gr.Markdown(\"# 💵 收支管理系統（Google Sheets 版）\")\n",
        "\n",
        "    with gr.Row():\n",
        "        date_str = gr.Textbox(label=\"日期 (YYYY-MM-DD)\", value=datetime.today().strftime(\"%Y-%m-%d\"))\n",
        "        item_str = gr.Textbox(label=\"項目名稱\")\n",
        "\n",
        "    with gr.Row():\n",
        "        in_or_out = gr.Radio([\"收入\", \"支出\"], label=\"收支類型\", value=\"支出\")\n",
        "        amount = gr.Number(label=\"金額\", value=0)\n",
        "\n",
        "    with gr.Row():\n",
        "        payer = gr.Textbox(label=\"請款人\")\n",
        "        payment_method = gr.Dropdown(choices=[\"現金\", \"信用卡\", \"Line Pay\", \"其他\"], label=\"支付方式\", value=\"現金\")\n",
        "        other_method = gr.Textbox(label=\"若選擇其他，請輸入方式\")\n",
        "        paid_status = gr.Radio([\"是\", \"否\"], label=\"是否已給錢\", value=\"是\")\n",
        "\n",
        "    submit_btn = gr.Button(\"新增紀錄\")\n",
        "    output = gr.Textbox(label=\"結果\", lines=15)\n",
        "\n",
        "    submit_btn.click(\n",
        "        fn=add_record,\n",
        "        inputs=[date_str, item_str, in_or_out, amount, payer, payment_method, other_method, paid_status],\n",
        "        outputs=output\n",
        "    )\n",
        "    # --- 分析區塊 ---\n",
        "    with gr.Tab(\"執行數據分析\"):\n",
        "        gr.Markdown(\"### 📊 收支數據分析與報告生成\")\n",
        "        gr.Markdown(\"點擊按鈕，系統將讀取所有收支紀錄，進行 **總結餘、請款人排名、支付方式分佈** 等分析，並將結果寫入名為 **`分析總結`** 的新工作表。\")\n",
        "        analysis_btn = gr.Button(\"執行分析並寫入 Google Sheet\")\n",
        "        analysis_output = gr.Textbox(label=\"分析結果狀態\", lines=5)\n",
        "\n",
        "        analysis_btn.click(\n",
        "            fn=generate_analysis_to_sheet,\n",
        "            inputs=[],\n",
        "            outputs=analysis_output\n",
        "        )\n",
        "\n",
        "demo.launch()"
      ],
      "metadata": {
        "colab": {
          "base_uri": "https://localhost:8080/",
          "height": 645
        },
        "id": "UBEkNqeoeI4o",
        "outputId": "ca434d9a-58fd-4678-a1bc-e0b57013396c"
      },
      "execution_count": 21,
      "outputs": [
        {
          "output_type": "stream",
          "name": "stdout",
          "text": [
            "It looks like you are running Gradio on a hosted Jupyter notebook, which requires `share=True`. Automatically setting `share=True` (you can turn this off by setting `share=False` in `launch()` explicitly).\n",
            "\n",
            "Colab notebook detected. To show errors in colab notebook, set debug=True in launch()\n",
            "* Running on public URL: https://fe38d2903ff604d9c2.gradio.live\n",
            "\n",
            "This share link expires in 1 week. For free permanent hosting and GPU upgrades, run `gradio deploy` from the terminal in the working directory to deploy to Hugging Face Spaces (https://huggingface.co/spaces)\n"
          ]
        },
        {
          "output_type": "display_data",
          "data": {
            "text/plain": [
              "<IPython.core.display.HTML object>"
            ],
            "text/html": [
              "<div><iframe src=\"https://fe38d2903ff604d9c2.gradio.live\" width=\"100%\" height=\"500\" allow=\"autoplay; camera; microphone; clipboard-read; clipboard-write;\" frameborder=\"0\" allowfullscreen></iframe></div>"
            ]
          },
          "metadata": {}
        },
        {
          "output_type": "execute_result",
          "data": {
            "text/plain": []
          },
          "metadata": {},
          "execution_count": 21
        }
      ]
    }
  ]
}